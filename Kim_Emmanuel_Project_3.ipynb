{
  "metadata": {
    "kernelspec": {
      "name": "python",
      "display_name": "Python (Pyodide)",
      "language": "python"
    },
    "language_info": {
      "codemirror_mode": {
        "name": "python",
        "version": 3
      },
      "file_extension": ".py",
      "mimetype": "text/x-python",
      "name": "python",
      "nbconvert_exporter": "python",
      "pygments_lexer": "ipython3",
      "version": "3.8"
    },
    "anaconda-cloud": {},
    "colab": {
      "provenance": []
    }
  },
  "nbformat_minor": 4,
  "nbformat": 4,
  "cells": [
    {
      "cell_type": "markdown",
      "source": "# Python Assignment 1 - Solutions (Emmanuel J. Kim)",
      "metadata": {
        "id": "xq__bChjD04e"
      }
    },
    {
      "cell_type": "markdown",
      "source": "⏱⏱⏱**Due: 10/19/2025 11:59:59 PM** ⏱⏱⏱\n\nSubmit this notebook file and upload it to your git repo. Include a link to your git repo while submitting this file to Brightspace.\n\nYou are not allowed to use chatgpt or any LLM in this assignment.\nCooperation is allowed and encouraged; however, you must write up and submit your own work. If you cooperate with others, you must list their names here.",
      "metadata": {
        "id": "y7j2V0UDMYLG"
      }
    },
    {
      "cell_type": "markdown",
      "source": "Total points: 100 (equivalent to 20 points after conversion)",
      "metadata": {
        "id": "SUS30Ew9D04n"
      }
    },
    {
      "cell_type": "markdown",
      "source": "## 0. Data Types, Structures, Indexing, and Slicing",
      "metadata": {
        "id": "b_bgT3b2GYTB"
      }
    },
    {
      "cell_type": "markdown",
      "source": "Read the lecutre note as well as [this page](https://www.geeksforgeeks.org/mutable-vs-immutable-objects-in-python/) and [this page](https://www.geeksforgeeks.org/difference-between-shallow-and-deep-copy-of-a-class/). Complete the following questions.\n\n(5 points) Give some examples (at least 2) of mutable objects in Python.\n\n***Answer:***\n\nlist (eg_list = [1, 2]), \nset (eg_set = {1, 2}), \ndictionary (eg_dict = {'a': 1})\n\n\n(5 points) Give some examples (at least 2) of immutable objects in Python.\n\n***Answer:***\n\nstring (msg = \"hello\"), \ninteger (x = 10), \nstuple (coords = (0, 1))\n\n\n(10 points) State the differences between assignment, shallow copy, and deep copy. Any reasonable answer will get full credit.\n\n***Answer:***\n\nAssignment (b = a) makes both variables refer to the exact same object. \nA shallow copy (copy.copy(a)) builds a new top‑level container, while still pointing to the original inner objects. \nA deep copy (copy.deepcopy(a)) recreates the whole structure recursively, leaving no shared mutable parts.\n",
      "metadata": {
        "id": "6yI1Jt57IwV2",
        "jp-MarkdownHeadingCollapsed": true
      }
    },
    {
      "cell_type": "markdown",
      "source": "(10 points) Using string methods find() and rfind(), find the index of the first digit (i.e. 0) and the index of the last digit (5) in the string below. Then, using string slicing, extract the number (i.e. 0.595595) from this string and convert the extracted value to a floating point number. Print out this float to the console.",
      "metadata": {
        "id": "OA8DxcrrGqZD"
      }
    },
    {
      "cell_type": "code",
      "source": "text = \"F-DGFDDSFGFD-CFDSHdstgfdfe: tfsd  aaa bdsf 0.595595 fdsgfdbc\";\n\nfirst_digit_ind = text.find('0')\nlast_digit_ind = text.rfind('5')\n\nnumber_str = text[first_digit_ind : last_digit_ind + 1]\nnumber_float = float(number_str)\n\nprint(f\"First digit (0) found at index: {first_digit_ind}\")\nprint(f\"Last digit (5) found at index: {last_digit_ind}\")\nprint(f\"The extracted number is: {number_float}\")",
      "metadata": {
        "id": "AUuFXXWqG4D3",
        "trusted": true
      },
      "outputs": [
        {
          "name": "stdout",
          "output_type": "stream",
          "text": "First digit (0) found at index: 43\nLast digit (5) found at index: 50\nThe extracted number is: 0.595595\n"
        }
      ],
      "execution_count": 17
    },
    {
      "cell_type": "markdown",
      "source": "## 1. Conditional Statements\n\n(10 points)\nTranslate the following MATLAB code into Python using `if-elif-else`.\n```\nn = input('Enter a number: ');\n\nswitch n\n    case -1\n        disp('negative one')\n    case 0\n        disp('zero')\n    case 1\n        disp('positive one')\n    otherwise\n        disp('other value')\nend\n```",
      "metadata": {
        "id": "cnCljYgpD04p"
      }
    },
    {
      "cell_type": "code",
      "source": "# Note: I use float here because non-integer numbers can be inputed by user\n# int( ) not used as input because MATLAB accepts non-integers in its input( ) \"script\".\n\nn = float(input(\"Enter a number: \"));\n\nif n == -1:\n    print(\"negative one\")\nelif n == 0:\n    print(\"zero\")\nelif n == 1:\n    print(\"positive one\")\nelse:\n    print(\"other value\")",
      "metadata": {
        "id": "9d8vl5zjD04q",
        "trusted": true
      },
      "outputs": [
        {
          "output_type": "stream",
          "name": "stdin",
          "text": "Enter a number:  2\n"
        },
        {
          "name": "stdout",
          "output_type": "stream",
          "text": "other value\n"
        }
      ],
      "execution_count": 23
    },
    {
      "cell_type": "markdown",
      "source": "## 2. While Loops\n\n(10 points) Write a Python program that calculates the factorial of a given number (you can assume an positive integer) using a while loop. Display the result to the console.",
      "metadata": {
        "id": "sW9XiUPpD04s"
      }
    },
    {
      "cell_type": "code",
      "source": "n = int(input(\"Enter a number: \")); # adopted from code above to have a simple input GUI + assume integer input\n\nif n == 0:\n    fact = 1             # The factorial of 0 is defined as 1, so initialize with that\nelse:\n    fact = 1             # start with the first multiplier           \n    i = n              \n\n    # keep looping while i is still larger than 1\n    while i > 1:\n        fact = fact * i   # multiply the current product by i\n        i = i - 1         # move to the next smaller number\n\nprint(f\"{n}! = {fact}\")",
      "metadata": {
        "colab": {
          "base_uri": "https://localhost:8080/"
        },
        "id": "CRCERx8uD04t",
        "outputId": "1870b9d1-fe04-4ae7-e5ec-08ce640ce72e",
        "trusted": true
      },
      "outputs": [
        {
          "output_type": "stream",
          "name": "stdin",
          "text": "Enter a number:  13\n"
        },
        {
          "name": "stdout",
          "output_type": "stream",
          "text": "13! = 6227020800\n"
        }
      ],
      "execution_count": 30
    },
    {
      "cell_type": "markdown",
      "source": "## 3. Functions\n\n(10 points) Write a function that determines if a number is prime.",
      "metadata": {
        "id": "ZQ5SVMq6D04w"
      }
    },
    {
      "cell_type": "code",
      "source": "# Function that defines prime number logic\ndef is_prime(n):\n    if n <= 1:           # 0, 1 & negative numbers are NOT prime\n        return False\n    if n <= 3:           # 2 & 3 are prime number base cases, start there\n        return True\n    if n % 2 == 0:       # get rid of even numbers > 2\n        return False\n\n    divisor_max = int(n ** 0.5) # need to test for larger numbers with divisor\n    divisor = 3\n    while divisor <= divisor_max:\n        if n % divisor == 0:\n            return False \n        divisor += 2     # test odd divisors, only.\n    return True\n\n# Function Validation Tests\nprint(is_prime(2))      # Output: True ?\nprint(is_prime(10))     # Output: False ?\nprint(is_prime(17))     # Output: True ?",
      "metadata": {
        "colab": {
          "base_uri": "https://localhost:8080/"
        },
        "id": "6rGP5G3_D04x",
        "outputId": "00df2d17-b697-4146-968f-be4fa7cc3ba3",
        "trusted": true
      },
      "outputs": [
        {
          "name": "stdout",
          "output_type": "stream",
          "text": "True\nFalse\nTrue\n"
        }
      ],
      "execution_count": 48
    },
    {
      "cell_type": "markdown",
      "source": "## 4. List Comprehension\n\n(10 points) Write a Python function called `prime_factors` that takes a relatively small integer as input and returns a list of its distinct prime factors. The function should use list comprehension to generate the list of distinct prime factors. You may use the function is_prime() defined in Q3.\n",
      "metadata": {
        "id": "Z6qg-fpQD04u"
      }
    },
    {
      "cell_type": "code",
      "source": "# Function that defines prime number logic\ndef is_prime(n):\n    if n <= 1:           # 0, 1 & negative numbers are NOT prime\n        return False\n    if n <= 3:           # 2 & 3 are prime number base cases, start there\n        return True\n    if n % 2 == 0:       # get rid of even numbers > 2\n        return False\n\n    divisor_max = int(n ** 0.5) # need to test for larger numbers with divisor\n    divisor = 3\n    while divisor <= divisor_max:\n        if n % divisor == 0:\n            return False \n        divisor += 2     # test odd divisors, only.\n    return True\n\n\n# Function that returns a list of the number's distinct prime factors\ndef prime_factors(n):\n    if n <= 1:                 # ther eis nothing to factor for 0, 1, negatives\n        return []\n    \n    small = [d for                                # find every divisor\n             d in range(2, int(n ** 0.5) + 1) \n             if n % d == 0\n            ]\n                                                  # add the matching large divisor for each small one\n    large = [n // d                     \n             for d in small \n             if n // d != d\n            ]\n    \n    if is_prime(n):                               # include n itself if it is prime\n        small.append(n)\n    \n    factors = sorted({p \n                      for p in small + large \n                      if is_prime(p)}\n                    )     # combine, keep only the prime numbers, remove duplicates, sort\n    return factors\n\n\n# ----- test cases -----\nprint(prime_factors(30))   # [2, 3, 5]\nprint(prime_factors(56))   # [2, 7]\nprint(prime_factors(198))  # [2, 3, 11]\nprint(prime_factors(464))  # [2, 29]",
      "metadata": {
        "colab": {
          "base_uri": "https://localhost:8080/"
        },
        "id": "2hSCjYlOD04v",
        "outputId": "1024d2e2-7d24-4e65-9529-e5a82d2a3211",
        "trusted": true
      },
      "outputs": [
        {
          "name": "stdout",
          "output_type": "stream",
          "text": "[2, 3, 5]\n[2, 7]\n[2, 3, 11]\n[2, 29]\n"
        }
      ],
      "execution_count": 78
    },
    {
      "cell_type": "markdown",
      "source": "## 5. Recursive Functions\n(25 points) Write a function that uses recursion to generate the $n$th row of the Pascal's triangle.\n```\n              1\n           1     1\n        1     2     1\n      1    3     3     1\n   1    4     6     4    1\n1     5    10    10    5    1\n...\n...\n...\n```",
      "metadata": {
        "id": "dw4kZZCiD040"
      }
    },
    {
      "cell_type": "code",
      "source": "# Function for recursive Pascals Triangle Line Output\ndef pascal(n):\n\n    # The very first row is just [1].\n    if n == 1:\n        return [1]\n\n    # Get the previous row first.\n    prev_row = pascal(n - 1)\n\n    # Start with 1, then add each pair of neighbours from the previous row, then finally end with another 1.\n    current = [1] + [prev_row[i] + prev_row[i + 1] for i in range(len(prev_row) - 1)] + [1]\n\n    return current\n \n# test case\nprint(pascal(6))  # output [1, 5, 10, 10, 5, 1]",
      "metadata": {
        "colab": {
          "base_uri": "https://localhost:8080/"
        },
        "id": "V8QFB_gKD040",
        "outputId": "4946dc49-2061-4057-e65d-9f48af44dac9",
        "trusted": true
      },
      "outputs": [
        {
          "name": "stdout",
          "output_type": "stream",
          "text": "[1, 5, 10, 10, 5, 1]\n"
        }
      ],
      "execution_count": 91
    },
    {
      "cell_type": "markdown",
      "source": "Rewrite the above function using only `while` or `for` loops instead of recursion.",
      "metadata": {
        "id": "eZytgm0qD041"
      }
    },
    {
      "cell_type": "code",
      "source": "# Pascal Triangle Row Elements Function using only for loops, no recursion\ndef pascal_by_loops(n):\n\n    # initialize the first row, 1\n    row = [1]                      \n\n    # build rows 2 to n \n    # interior values = sum of two neighbours\n    for _ in range(2, n + 1):       \n        next_row = [1]        \n        for i in range(len(row)-1):\n            next_row.append(row[i] + row[i+1])\n        next_row.append(1)          \n        row = next_row              # then add back to row variable, for next iteration\n\n    return row\n\n# test\nprint(pascal_by_loops(6))   # [1, 5, 10, 10, 5, 1]    ? ",
      "metadata": {
        "colab": {
          "base_uri": "https://localhost:8080/"
        },
        "id": "UZ8f-akaD041",
        "outputId": "68ec5672-a40f-493f-e725-68b7471e76bc",
        "trusted": true
      },
      "outputs": [
        {
          "name": "stdout",
          "output_type": "stream",
          "text": "[1, 5, 10, 10, 5, 1]\n"
        }
      ],
      "execution_count": 53
    },
    {
      "cell_type": "markdown",
      "source": "\n\n---\n\n\n（5 points) good coding practice and properly submitting your work to GitHub.",
      "metadata": {
        "id": "HvHD6QHzVo9I"
      }
    }
  ]
}